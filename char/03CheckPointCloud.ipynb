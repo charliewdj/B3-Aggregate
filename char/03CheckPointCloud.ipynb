{
 "cells": [
  {
   "cell_type": "markdown",
   "metadata": {},
   "source": [
    "# Open3Dで点群確認"
   ]
  },
  {
   "cell_type": "code",
   "execution_count": 26,
   "metadata": {},
   "outputs": [],
   "source": [
    "import open3d as o3d\n",
    "import numpy as np\n",
    "import cv2"
   ]
  },
  {
   "cell_type": "code",
   "execution_count": 28,
   "metadata": {},
   "outputs": [],
   "source": [
    "DATE = \"12_24_12_51\"\n",
    "tg = 2"
   ]
  },
  {
   "cell_type": "code",
   "execution_count": 29,
   "metadata": {},
   "outputs": [
    {
     "name": "stdout",
     "output_type": "stream",
     "text": [
      "[Open3D WARNING] Read PLY failed: unable to open file: ply/12_24_12_51_2.ply\n"
     ]
    }
   ],
   "source": [
    "pcd_load = o3d.io.read_point_cloud(f\"ply/{DATE}_{tg}.ply\")"
   ]
  },
  {
   "cell_type": "code",
   "execution_count": 31,
   "metadata": {},
   "outputs": [],
   "source": [
    "# x,y,zの表示範囲を指定して(メートル単位)\n",
    "bb = o3d.geometry.AxisAlignedBoundingBox(\n",
    "    np.array([[-2],[-2],[0]]),\n",
    "    np.array([[2],[2],[1]]),\n",
    ")\n",
    "pcd_load = pcd_load.crop(bb)"
   ]
  },
  {
   "cell_type": "code",
   "execution_count": 32,
   "metadata": {},
   "outputs": [
    {
     "name": "stdout",
     "output_type": "stream",
     "text": [
      "[Open3D WARNING] The number of points is 0 when creating axis-aligned bounding box.\n"
     ]
    }
   ],
   "source": [
    "o3d.visualization.draw_geometries([pcd_load])"
   ]
  }
 ],
 "metadata": {
  "kernelspec": {
   "display_name": "py37_3d",
   "language": "python",
   "name": "python3"
  },
  "language_info": {
   "codemirror_mode": {
    "name": "ipython",
    "version": 3
   },
   "file_extension": ".py",
   "mimetype": "text/x-python",
   "name": "python",
   "nbconvert_exporter": "python",
   "pygments_lexer": "ipython3",
   "version": "3.9.6"
  }
 },
 "nbformat": 4,
 "nbformat_minor": 2
}
